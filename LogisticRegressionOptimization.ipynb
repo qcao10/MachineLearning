{
 "cells": [
  {
   "cell_type": "markdown",
   "metadata": {
    "collapsed": true
   },
   "source": [
    "# Logistic regression numerical optimization\n"
   ]
  },
  {
   "cell_type": "code",
   "execution_count": 268,
   "metadata": {
    "collapsed": true
   },
   "outputs": [],
   "source": [
    "import numpy as np"
   ]
  },
  {
   "cell_type": "markdown",
   "metadata": {},
   "source": [
    "# Let's contrive a simple the dataset"
   ]
  },
  {
   "cell_type": "code",
   "execution_count": 273,
   "metadata": {
    "collapsed": true
   },
   "outputs": [],
   "source": [
    "X = np.array([[1,1.5],[0,1.5],[1,1],[2,0.5],[1,1.5],[0.5,0.5],[2,2],[2.5,1.5],[3,3],[2.5,2.5],[2,3],[3,2]])\n",
    "X1 = np.ones(12).reshape(12,1)"
   ]
  },
  {
   "cell_type": "code",
   "execution_count": 274,
   "metadata": {},
   "outputs": [
    {
     "data": {
      "text/plain": [
       "array([[ 1. ,  1.5],\n",
       "       [ 0. ,  1.5],\n",
       "       [ 1. ,  1. ],\n",
       "       [ 2. ,  0.5],\n",
       "       [ 1. ,  1.5],\n",
       "       [ 0.5,  0.5],\n",
       "       [ 2. ,  2. ],\n",
       "       [ 2.5,  1.5],\n",
       "       [ 3. ,  3. ],\n",
       "       [ 2.5,  2.5],\n",
       "       [ 2. ,  3. ],\n",
       "       [ 3. ,  2. ]])"
      ]
     },
     "execution_count": 274,
     "metadata": {},
     "output_type": "execute_result"
    }
   ],
   "source": [
    "X"
   ]
  },
  {
   "cell_type": "code",
   "execution_count": 468,
   "metadata": {
    "collapsed": true
   },
   "outputs": [],
   "source": [
    "#prepare the intercept\n",
    "X = np.hstack((X1,X))"
   ]
  },
  {
   "cell_type": "code",
   "execution_count": 276,
   "metadata": {},
   "outputs": [
    {
     "data": {
      "text/plain": [
       "(12, 3)"
      ]
     },
     "execution_count": 276,
     "metadata": {},
     "output_type": "execute_result"
    }
   ],
   "source": [
    "X.shape"
   ]
  },
  {
   "cell_type": "code",
   "execution_count": 277,
   "metadata": {},
   "outputs": [
    {
     "data": {
      "text/plain": [
       "array([[ 1. ,  1. ,  1.5],\n",
       "       [ 1. ,  0. ,  1.5],\n",
       "       [ 1. ,  1. ,  1. ],\n",
       "       [ 1. ,  2. ,  0.5],\n",
       "       [ 1. ,  1. ,  1.5],\n",
       "       [ 1. ,  0.5,  0.5],\n",
       "       [ 1. ,  2. ,  2. ],\n",
       "       [ 1. ,  2.5,  1.5],\n",
       "       [ 1. ,  3. ,  3. ],\n",
       "       [ 1. ,  2.5,  2.5],\n",
       "       [ 1. ,  2. ,  3. ],\n",
       "       [ 1. ,  3. ,  2. ]])"
      ]
     },
     "execution_count": 277,
     "metadata": {},
     "output_type": "execute_result"
    }
   ],
   "source": [
    "X"
   ]
  },
  {
   "cell_type": "code",
   "execution_count": 282,
   "metadata": {
    "collapsed": true
   },
   "outputs": [],
   "source": [
    "Y = np.array([0,0,0,0,0,0,1,1,1,1,1,1])[np.newaxis].T"
   ]
  },
  {
   "cell_type": "code",
   "execution_count": 283,
   "metadata": {},
   "outputs": [
    {
     "data": {
      "text/plain": [
       "(12, 1)"
      ]
     },
     "execution_count": 283,
     "metadata": {},
     "output_type": "execute_result"
    }
   ],
   "source": [
    "Y.shape"
   ]
  },
  {
   "cell_type": "code",
   "execution_count": 315,
   "metadata": {},
   "outputs": [
    {
     "data": {
      "text/plain": [
       "array([ 1. ,  1. ,  1.5])"
      ]
     },
     "execution_count": 315,
     "metadata": {},
     "output_type": "execute_result"
    }
   ],
   "source": [
    "X[0]"
   ]
  },
  {
   "cell_type": "markdown",
   "metadata": {},
   "source": [
    "# To visualize the data "
   ]
  },
  {
   "cell_type": "code",
   "execution_count": 284,
   "metadata": {
    "collapsed": true
   },
   "outputs": [],
   "source": [
    "import matplotlib.pyplot as plt"
   ]
  },
  {
   "cell_type": "code",
   "execution_count": 289,
   "metadata": {},
   "outputs": [
    {
     "data": {
      "image/png": "[encoded data removed]",
      "text/plain": [
       "<matplotlib.figure.Figure at 0x1a1ac32cf8>"
      ]
     },
     "metadata": {},
     "output_type": "display_data"
    }
   ],
   "source": [
    "plt.scatter(X[:6,1],X[:6,2],color='red')\n",
    "plt.scatter(X[6:,1],X[6:,2],color='blue')\n",
    "plt.show()"
   ]
  },
  {
   "cell_type": "markdown",
   "metadata": {},
   "source": [
    "# We can see that the line x1 + x2 = 3 is a good decision boundary to separate the 2 classes"
   ]
  },
  {
   "cell_type": "code",
   "execution_count": 292,
   "metadata": {},
   "outputs": [
    {
     "data": {
      "image/png": "[encoded data removed]",
      "text/plain": [
       "<matplotlib.figure.Figure at 0x1a1ada8710>"
      ]
     },
     "metadata": {},
     "output_type": "display_data"
    }
   ],
   "source": [
    "plt.scatter(X[:6,1],X[:6,2],color='red')\n",
    "plt.scatter(X[6:,1],X[6:,2],color='blue')\n",
    "plt.plot([3,0],[0,3],color = 'green')\n",
    "plt.show()"
   ]
  },
  {
   "cell_type": "markdown",
   "metadata": {},
   "source": [
    "# We try to learn this decision boundary through logistic regression with Gradient Descent"
   ]
  },
  {
   "cell_type": "code",
   "execution_count": 309,
   "metadata": {
    "collapsed": true
   },
   "outputs": [],
   "source": [
    "def sigmoid(x,theta):\n",
    "    return (1/(1+np.exp(-x.dot(theta))))"
   ]
  },
  {
   "cell_type": "code",
   "execution_count": 464,
   "metadata": {
    "collapsed": true
   },
   "outputs": [],
   "source": [
    "iter = 100000\n",
    "m = 12\n",
    "n = 3\n",
    "theta = np.random.rand(n,1)\n",
    "alpha = 0.1\n",
    "cost = np.zeros(iter)"
   ]
  },
  {
   "cell_type": "code",
   "execution_count": 462,
   "metadata": {
    "collapsed": true
   },
   "outputs": [],
   "source": [
    "#vectorized version of loss function\n",
    "def getLossFunction(Y,X,theta):\n",
    "    return (Y.T.dot(np.log(sigmoid(X,theta)))- (1-Y).T.dot(np.log(1-sigmoid(X,theta)) ))\n",
    "\n",
    "#loop version of loss function\n",
    "def getLossFunctionLoop(Y,X,theta):\n",
    "    sum = 0\n",
    "    for i in range(Y.size[0]):\n",
    "        sum += Y[i]*np.log(sigmoid(X[i],theta)) - (1-Y[i])*np.log(1-sigmoid(X[i],theta))\n",
    "    return sum"
   ]
  },
  {
   "cell_type": "code",
   "execution_count": 465,
   "metadata": {},
   "outputs": [
    {
     "name": "stdout",
     "output_type": "stream",
     "text": [
      "norm gradient      :  0.421108093043\n",
      "loss function      :  [[ 7.03556651]]\n",
      "loss function(loop):  [[ 7.03556651]]\n",
      "norm gradient      :  0.00418070614276\n",
      "loss function      :  [[ 0.04700728]]\n",
      "loss function(loop):  [[ 0.04700728]]\n",
      "norm gradient      :  0.00219842051661\n",
      "loss function      :  [[ 0.02446764]]\n",
      "loss function(loop):  [[ 0.02446764]]\n",
      "norm gradient      :  0.0014952928313\n",
      "loss function      :  [[ 0.01658244]]\n",
      "loss function(loop):  [[ 0.01658244]]\n",
      "norm gradient      :  0.00113375290782\n",
      "loss function      :  [[ 0.01254972]]\n",
      "loss function(loop):  [[ 0.01254972]]\n",
      "norm gradient      :  0.000913269537491\n",
      "loss function      :  [[ 0.01009763]]\n",
      "loss function(loop):  [[ 0.01009763]]\n",
      "norm gradient      :  0.000764693694168\n",
      "loss function      :  [[ 0.00844836]]\n",
      "loss function(loop):  [[ 0.00844836]]\n",
      "norm gradient      :  0.000657752880125\n",
      "loss function      :  [[ 0.00726282]]\n",
      "loss function(loop):  [[ 0.00726282]]\n",
      "norm gradient      :  0.0005770850329\n",
      "loss function      :  [[ 0.0063694]]\n",
      "loss function(loop):  [[ 0.0063694]]\n",
      "norm gradient      :  0.000514061436359\n",
      "loss function      :  [[ 0.00567191]]\n",
      "loss function(loop):  [[ 0.00567191]]\n"
     ]
    }
   ],
   "source": [
    "for i in range(iter):\n",
    "    #vectorized version of gradient\n",
    "    grad = (1/m)*(X.T.dot((sigmoid(X,theta)-Y)))\n",
    "    theta = theta - (alpha)*grad\n",
    "    cost[i] = getLossFunction(Y,X,theta);\n",
    "    if i%10000 == 0:\n",
    "        print('norm gradient      : ', np.linalg.norm(grad))\n",
    "        print('loss function      : ', getLossFunction(Y,X,theta))\n",
    "        print('loss function(loop): ', getLossFunction(Y,X,theta))\n",
    "\n",
    "    "
   ]
  },
  {
   "cell_type": "code",
   "execution_count": 438,
   "metadata": {},
   "outputs": [
    {
     "data": {
      "text/plain": [
       "array([[-33.76983798],\n",
       "       [ 10.52741306],\n",
       "       [ 10.21523507]])"
      ]
     },
     "execution_count": 438,
     "metadata": {},
     "output_type": "execute_result"
    }
   ],
   "source": [
    "theta"
   ]
  },
  {
   "cell_type": "code",
   "execution_count": 459,
   "metadata": {},
   "outputs": [
    {
     "data": {
      "image/png": "[encoded data removed]",
      "text/plain": [
       "<matplotlib.figure.Figure at 0x1a1b6e7cf8>"
      ]
     },
     "metadata": {},
     "output_type": "display_data"
    }
   ],
   "source": [
    "plt.scatter(X[:6,1],X[:6,2],color='red')\n",
    "plt.scatter(X[6:,1],X[6:,2],color='blue')\n",
    "plt.plot([3,0],[0,3],color = 'green', label = 'Hypothesis boundary')\n",
    "plt.plot([0,-theta[0]/theta[1]],[-theta[0]/theta[2],0], color = 'magenta', label = 'Logistic regression')\n",
    "plt.legend(loc='upper left')\n",
    "plt.show()"
   ]
  },
  {
   "cell_type": "code",
   "execution_count": 352,
   "metadata": {
    "collapsed": true
   },
   "outputs": [],
   "source": [
    "# validate our result using sklearn\n",
    "from sklearn.linear_model import LogisticRegression"
   ]
  },
  {
   "cell_type": "code",
   "execution_count": 374,
   "metadata": {
    "collapsed": true
   },
   "outputs": [],
   "source": [
    "logisticRegr = LogisticRegression(C = 1e10, max_iter=100000)\n",
    "Y_sk = [0,0,0,0,0,0,1,1,1,1,1,1]"
   ]
  },
  {
   "cell_type": "code",
   "execution_count": 375,
   "metadata": {},
   "outputs": [
    {
     "data": {
      "text/plain": [
       "LogisticRegression(C=10000000000.0, class_weight=None, dual=False,\n",
       "          fit_intercept=True, intercept_scaling=1, max_iter=100000,\n",
       "          multi_class='ovr', n_jobs=1, penalty='l2', random_state=None,\n",
       "          solver='liblinear', tol=0.0001, verbose=0, warm_start=False)"
      ]
     },
     "execution_count": 375,
     "metadata": {},
     "output_type": "execute_result"
    }
   ],
   "source": [
    "#Note that sklearn will create an intercept column of all 1 to us\n",
    "logisticRegr.fit(X[:,1:],Y_sk)"
   ]
  },
  {
   "cell_type": "code",
   "execution_count": 376,
   "metadata": {},
   "outputs": [
    {
     "data": {
      "text/plain": [
       "array([[ 13.79034844,  13.40386844]])"
      ]
     },
     "execution_count": 376,
     "metadata": {},
     "output_type": "execute_result"
    }
   ],
   "source": [
    "logisticRegr.coef_"
   ]
  },
  {
   "cell_type": "code",
   "execution_count": 377,
   "metadata": {},
   "outputs": [
    {
     "data": {
      "text/plain": [
       "array([-44.50657344])"
      ]
     },
     "execution_count": 377,
     "metadata": {},
     "output_type": "execute_result"
    }
   ],
   "source": [
    "logisticRegr.intercept_"
   ]
  },
  {
   "cell_type": "code",
   "execution_count": 460,
   "metadata": {},
   "outputs": [
    {
     "data": {
      "image/png": "[encoded data removed]",
      "text/plain": [
       "<matplotlib.figure.Figure at 0x1a1b974b70>"
      ]
     },
     "metadata": {},
     "output_type": "display_data"
    }
   ],
   "source": [
    "#again we see that our result is very similar to sklearn\n",
    "plt.scatter(X[:6,1],X[:6,2],color='red')\n",
    "plt.scatter(X[6:,1],X[6:,2],color='blue')\n",
    "plt.plot([3,0],[0,3],color = 'green', label = 'Hypothesis boundary')\n",
    "plt.plot([0,-theta[0]/theta[1]],[-theta[0]/theta[2],0], color = 'magenta', label = 'Logistic regression')\n",
    "plt.plot([0,-logisticRegr.intercept_/logisticRegr.coef_[0][0]],[-logisticRegr.intercept_/logisticRegr.coef_[0][1],0], color = 'cyan', label = 'sklearn')\n",
    "plt.legend(loc='upper left')\n",
    "plt.show()"
   ]
  },
  {
   "cell_type": "code",
   "execution_count": 467,
   "metadata": {},
   "outputs": [
    {
     "data": {
      "image/png": "[encoded data removed]",
      "text/plain": [
       "<matplotlib.figure.Figure at 0x1a1b7d6780>"
      ]
     },
     "metadata": {},
     "output_type": "display_data"
    }
   ],
   "source": [
    "#show the loss in log scale\n",
    "plt.plot(range(len(cost)),np.log(cost), label = 'Gradient Descent cost function')\n",
    "plt.legend(loc = 'upper right')\n",
    "plt.show()"
   ]
  },
  {
   "cell_type": "markdown",
   "metadata": {},
   "source": [
    "# We now try to explore stochastic gradient descent"
   ]
  },
  {
   "cell_type": "code",
   "execution_count": 448,
   "metadata": {
    "collapsed": true
   },
   "outputs": [],
   "source": [
    "n_epoch = 100000\n",
    "data = np.hstack((Y,X))\n",
    "m = 12\n",
    "n = 3\n",
    "theta_sgd = np.random.rand(n,1)\n",
    "alpha = 0.1\n",
    "cost_sgd = np.zeros(iter)\n",
    "    "
   ]
  },
  {
   "cell_type": "code",
   "execution_count": 449,
   "metadata": {},
   "outputs": [
    {
     "name": "stdout",
     "output_type": "stream",
     "text": [
      "norm gradient      :  1.40145953236\n",
      "loss function      :  [ 3.42325164]\n",
      "norm gradient      :  1.09764771303e-08\n",
      "loss function      :  [ 0.00425797]\n",
      "norm gradient      :  0.00629917656319\n",
      "loss function      :  [ 0.002144]\n",
      "norm gradient      :  0.00268160895118\n",
      "loss function      :  [ 0.00143307]\n",
      "norm gradient      :  0.00360693433037\n",
      "loss function      :  [ 0.00107655]\n",
      "norm gradient      :  8.48809323996e-10\n",
      "loss function      :  [ 0.00086197]\n",
      "norm gradient      :  0.00240973002118\n",
      "loss function      :  [ 0.00071885]\n",
      "norm gradient      :  0.00115718273921\n",
      "loss function      :  [ 0.00061637]\n",
      "norm gradient      :  0.00101329231128\n",
      "loss function      :  [ 0.00053953]\n",
      "norm gradient      :  1.46839661175e-10\n",
      "loss function      :  [ 0.00047974]\n"
     ]
    }
   ],
   "source": [
    "for i in range(n_epoch):\n",
    "    np.random.shuffle(data)\n",
    "    for j in range(data.shape[0]):\n",
    "        grad = (sigmoid(data[j,1:].reshape(n,1).T,theta_sgd)-data[j,0])*data[j,1:].reshape(n,1)        \n",
    "        theta_sgd = theta_sgd - alpha*grad\n",
    "    cost_sgd[i] = getLossFunction(data[:,0],data[:,1:],theta_sgd)\n",
    "    if i%10000 == 0:\n",
    "        print('norm gradient      : ', np.linalg.norm(grad))\n",
    "        print('loss function      : ', getLossFunction(data[:,0],data[:,1:],theta_sgd))\n"
   ]
  },
  {
   "cell_type": "code",
   "execution_count": 450,
   "metadata": {},
   "outputs": [
    {
     "data": {
      "text/plain": [
       "array([[-33.42421411],\n",
       "       [ 10.42108737],\n",
       "       [ 10.10887402]])"
      ]
     },
     "execution_count": 450,
     "metadata": {},
     "output_type": "execute_result"
    }
   ],
   "source": [
    "theta_sgd"
   ]
  },
  {
   "cell_type": "code",
   "execution_count": 451,
   "metadata": {},
   "outputs": [
    {
     "data": {
      "image/png": "[encoded data removed]",
      "text/plain": [
       "<matplotlib.figure.Figure at 0x1a1a743780>"
      ]
     },
     "metadata": {},
     "output_type": "display_data"
    }
   ],
   "source": [
    "#Let's see how stochastic gradient descent performs\n",
    "plt.scatter(X[:6,1],X[:6,2],color='red')\n",
    "plt.scatter(X[6:,1],X[6:,2],color='blue')\n",
    "plt.plot([3,0],[0,3],color = 'green', label = 'Hypothesis boundary')\n",
    "plt.plot([0,-theta[0]/theta[1]],[-theta[0]/theta[2],0], color = 'magenta', label = 'Logistic regression')\n",
    "plt.plot([0,-logisticRegr.intercept_/logisticRegr.coef_[0][0]],[-logisticRegr.intercept_/logisticRegr.coef_[0][1],0], color = 'cyan', label = 'sklearn')\n",
    "plt.plot([0,-theta_sgd[0]/theta_sgd[1]],[-theta_sgd[0]/theta_sgd[2],0], color = 'black', label = 'Logistic regression SGD')\n",
    "plt.legend(loc='upper left')\n",
    "plt.show()"
   ]
  },
  {
   "cell_type": "code",
   "execution_count": 452,
   "metadata": {},
   "outputs": [
    {
     "data": {
      "image/png": "[encoded data removed]",
      "text/plain": [
       "<matplotlib.figure.Figure at 0x1a1b0c4d68>"
      ]
     },
     "metadata": {},
     "output_type": "display_data"
    }
   ],
   "source": [
    "#How about the cost function\n",
    "#show the loss in log scale\n",
    "plt.plot(range(len(cost)),np.log(cost), color = 'magenta',label = 'Gradient Descent Cost')\n",
    "plt.plot(range(len(cost_sgd)),np.log(cost_sgd), color = 'black',label = 'SGD cost')\n",
    "plt.legend(loc='upper right')\n",
    "plt.show()"
   ]
  },
  {
   "cell_type": "markdown",
   "metadata": {},
   "source": [
    "# We can see that using GD reduce the cost function within a smaller number of iterations, but the computational cost to go through the dataset can be more costly"
   ]
  },
  {
   "cell_type": "code",
   "execution_count": 457,
   "metadata": {},
   "outputs": [
    {
     "data": {
      "image/png": "[encoded data removed]",
      "text/plain": [
       "<matplotlib.figure.Figure at 0x1a1b7a1710>"
      ]
     },
     "metadata": {},
     "output_type": "display_data"
    }
   ],
   "source": [
    "plt.plot(range(1000),np.log(cost_sgd[:1000]), color = 'black',label = 'SGD cost')\n",
    "plt.legend(loc='upper right')\n",
    "plt.show()"
   ]
  },
  {
   "cell_type": "markdown",
   "metadata": {},
   "source": [
    "# Zoom into SGD cost function to see the stochastic nature"
   ]
  },
  {
   "cell_type": "markdown",
   "metadata": {},
   "source": [
    "# Taking derivatives can be challenging in some cases. We now explore Auto-Differentiation tool in Pytorch"
   ]
  },
  {
   "cell_type": "code",
   "execution_count": null,
   "metadata": {
    "collapsed": true
   },
   "outputs": [],
   "source": []
  }
 ],
 "metadata": {
  "kernelspec": {
   "display_name": "Python 3",
   "language": "python",
   "name": "python3"
  },
  "language_info": {
   "codemirror_mode": {
    "name": "ipython",
    "version": 3
   },
   "file_extension": ".py",
   "mimetype": "text/x-python",
   "name": "python",
   "nbconvert_exporter": "python",
   "pygments_lexer": "ipython3",
   "version": "3.6.3"
  }
 },
 "nbformat": 4,
 "nbformat_minor": 2
}
